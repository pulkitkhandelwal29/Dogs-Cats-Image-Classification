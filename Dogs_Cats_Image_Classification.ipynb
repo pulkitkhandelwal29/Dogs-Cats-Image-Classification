{
 "cells": [
  {
   "cell_type": "markdown",
   "metadata": {
    "id": "k2ZlzC8kTzeL"
   },
   "source": [
    "# Dogs vs Cats Image Classification using CNN"
   ]
  },
  {
   "cell_type": "code",
   "execution_count": null,
   "metadata": {
    "colab": {
     "base_uri": "https://localhost:8080/"
    },
    "id": "25QqBL47T67U",
    "outputId": "3823c6fa-7271-4a79-8b17-8f4a8d94e66d"
   },
   "outputs": [
    {
     "name": "stdout",
     "output_type": "stream",
     "text": [
      "Mounted at /content/drive\n"
     ]
    }
   ],
   "source": [
    "from google.colab import drive\n",
    "drive.mount('/content/drive')"
   ]
  },
  {
   "cell_type": "code",
   "execution_count": null,
   "metadata": {
    "id": "GwT1yQV7USti"
   },
   "outputs": [],
   "source": [
    "#Unzipping the Cats_Dogs Data\n",
    "#!unzip \"/content/drive/MyDrive/Cats_Dogs_Data.zip\" -d \"/content/drive/MyDrive/Cats_Dogs_Data\""
   ]
  },
  {
   "cell_type": "markdown",
   "metadata": {},
   "source": [
    "### Importing the keras libraries and packages"
   ]
  },
  {
   "cell_type": "code",
   "execution_count": null,
   "metadata": {
    "id": "dy6FZ22uTzep"
   },
   "outputs": [],
   "source": [
    "#Helps in initialising the neural network with sequence of layers (another method is through graphs)\n",
    "from keras.models import Sequential\n",
    "\n",
    "#Helps in initialising the convolutional layer \n",
    "# 2D because of images and 3D for videos(contains time dimension)\n",
    "from keras.layers import Convolution2D\n",
    "\n",
    "#Helps to add pooling layers\n",
    "from keras.layers import MaxPooling2D\n",
    "\n",
    "#Converts pooled features(obtained from Convolutional2D,MaxPooling2D) into a large feature vector \n",
    "#that becomes input for fully connected layers\n",
    "from keras.layers import Flatten\n",
    "\n",
    "#Connects densely layers to form Neural Network\n",
    "from keras.layers import Dense"
   ]
  },
  {
   "cell_type": "markdown",
   "metadata": {},
   "source": [
    "### Initializing the CNN"
   ]
  },
  {
   "cell_type": "code",
   "execution_count": null,
   "metadata": {
    "id": "pXBM12VwTzes"
   },
   "outputs": [],
   "source": [
    "classifier = Sequential()\n",
    "\n",
    "# 1. Convolutional Layer\n",
    "#(32,3,3) -> (No.of feature detectors, no. of rows, no. of columns in feature detector)\n",
    "#input_shape -> Shape of image where the feature detector will be applied (64 pixels, 64px, 3 color channels)\n",
    "#activation -> purpose here is different, its not handling the weights instead, fix the values of pixels to not go to negative\n",
    "classifier.add(Convolution2D(32,3,3, input_shape = (128,128,3) , activation = 'relu'))\n",
    "\n",
    "# 2. Pooling Layer\n",
    "#pool_size -> Matrix to take values from the feature map\n",
    "classifier.add(MaxPooling2D(pool_size = (2,2)))\n",
    "\n",
    "# Adding 2nd Convolutional Layer (they two together when we add convolutional layer)\n",
    "#We don't need to add input_shape as Keras will automatically give input from the previous pooled layer\n",
    "classifier.add(Convolution2D(32,3,3 , activation = 'relu'))\n",
    "classifier.add(MaxPooling2D(pool_size = (2,2)))\n",
    "\n",
    "# 3. Flattening Layer\n",
    "#Classifier will automatically know that the output of above will be passed to flattening layer, so no need to add any parameter\n",
    "classifier.add(Flatten())\n",
    "\n",
    "# 4. Fully connected Layer\n",
    "#Hidden layer\n",
    "#units defining no. of neurons in hidden layer (no thumb rule to decide, need to experiment)\n",
    "classifier.add(Dense(units = 128 , activation = 'relu'))\n",
    "#Output layer\n",
    "#unitss as 1, we just need to predict whether cat or dog\n",
    "classifier.add(Dense(units = 1 , activation = 'sigmoid'))\n"
   ]
  },
  {
   "cell_type": "markdown",
   "metadata": {},
   "source": [
    "### Compiling the CNN"
   ]
  },
  {
   "cell_type": "code",
   "execution_count": null,
   "metadata": {
    "id": "0LNOwhzCTzet"
   },
   "outputs": [],
   "source": [
    "#These parameters define we are going for Stochastic Gradient Descent Algorithm\n",
    "#Loss = 'binary_crossentropy' if binary classification , if multiclass then 'categorical_crossentropy'\n",
    "classifier.compile(optimizer = 'adam' , loss = 'binary_crossentropy', metrics = ['accuracy'])"
   ]
  },
  {
   "cell_type": "markdown",
   "metadata": {},
   "source": [
    "### Summary of Model"
   ]
  },
  {
   "cell_type": "code",
   "execution_count": null,
   "metadata": {
    "colab": {
     "base_uri": "https://localhost:8080/"
    },
    "id": "ym6UtGRXTzeu",
    "outputId": "cbadacfc-ca3c-42d0-a74e-9f2ffd4ad05e"
   },
   "outputs": [
    {
     "name": "stdout",
     "output_type": "stream",
     "text": [
      "Model: \"sequential\"\n",
      "_________________________________________________________________\n",
      "Layer (type)                 Output Shape              Param #   \n",
      "=================================================================\n",
      "conv2d (Conv2D)              (None, 42, 42, 32)        896       \n",
      "_________________________________________________________________\n",
      "max_pooling2d (MaxPooling2D) (None, 21, 21, 32)        0         \n",
      "_________________________________________________________________\n",
      "conv2d_1 (Conv2D)            (None, 7, 7, 32)          9248      \n",
      "_________________________________________________________________\n",
      "max_pooling2d_1 (MaxPooling2 (None, 3, 3, 32)          0         \n",
      "_________________________________________________________________\n",
      "flatten (Flatten)            (None, 288)               0         \n",
      "_________________________________________________________________\n",
      "dense (Dense)                (None, 128)               36992     \n",
      "_________________________________________________________________\n",
      "dense_1 (Dense)              (None, 1)                 129       \n",
      "=================================================================\n",
      "Total params: 47,265\n",
      "Trainable params: 47,265\n",
      "Non-trainable params: 0\n",
      "_________________________________________________________________\n"
     ]
    }
   ],
   "source": [
    "classifier.summary()"
   ]
  },
  {
   "cell_type": "markdown",
   "metadata": {
    "id": "PBDDOrReTzev"
   },
   "source": [
    "### Image Augmentation"
   ]
  },
  {
   "cell_type": "code",
   "execution_count": null,
   "metadata": {
    "colab": {
     "base_uri": "https://localhost:8080/"
    },
    "id": "_k36p2RIXJBW",
    "outputId": "1be27e2e-0736-4152-c0f4-5d088e47b6d3"
   },
   "outputs": [
    {
     "name": "stdout",
     "output_type": "stream",
     "text": [
      "Found 8000 images belonging to 2 classes.\n",
      "Found 2000 images belonging to 2 classes.\n",
      "Epoch 1/25\n",
      "250/250 [==============================] - 2921s 12s/step - loss: 0.6868 - accuracy: 0.5451 - val_loss: 0.6399 - val_accuracy: 0.6620\n",
      "Epoch 2/25\n",
      "250/250 [==============================] - 58s 232ms/step - loss: 0.6472 - accuracy: 0.6224 - val_loss: 0.5983 - val_accuracy: 0.6890\n",
      "Epoch 3/25\n",
      "250/250 [==============================] - 57s 228ms/step - loss: 0.5975 - accuracy: 0.6832 - val_loss: 0.5889 - val_accuracy: 0.6875\n",
      "Epoch 4/25\n",
      "250/250 [==============================] - 57s 228ms/step - loss: 0.5811 - accuracy: 0.6902 - val_loss: 0.5513 - val_accuracy: 0.7225\n",
      "Epoch 5/25\n",
      "250/250 [==============================] - 57s 227ms/step - loss: 0.5525 - accuracy: 0.7163 - val_loss: 0.5682 - val_accuracy: 0.7175\n",
      "Epoch 6/25\n",
      "250/250 [==============================] - 57s 227ms/step - loss: 0.5443 - accuracy: 0.7191 - val_loss: 0.5310 - val_accuracy: 0.7415\n",
      "Epoch 7/25\n",
      "250/250 [==============================] - 56s 226ms/step - loss: 0.5345 - accuracy: 0.7317 - val_loss: 0.5278 - val_accuracy: 0.7470\n",
      "Epoch 8/25\n",
      "250/250 [==============================] - 56s 225ms/step - loss: 0.5381 - accuracy: 0.7206 - val_loss: 0.5612 - val_accuracy: 0.7210\n",
      "Epoch 9/25\n",
      "250/250 [==============================] - 56s 224ms/step - loss: 0.5123 - accuracy: 0.7400 - val_loss: 0.5085 - val_accuracy: 0.7575\n",
      "Epoch 10/25\n",
      "250/250 [==============================] - 56s 224ms/step - loss: 0.5014 - accuracy: 0.7471 - val_loss: 0.5077 - val_accuracy: 0.7570\n",
      "Epoch 11/25\n",
      "250/250 [==============================] - 56s 224ms/step - loss: 0.5048 - accuracy: 0.7479 - val_loss: 0.4975 - val_accuracy: 0.7640\n",
      "Epoch 12/25\n",
      "250/250 [==============================] - 56s 225ms/step - loss: 0.4827 - accuracy: 0.7703 - val_loss: 0.4875 - val_accuracy: 0.7665\n",
      "Epoch 13/25\n",
      "250/250 [==============================] - 56s 225ms/step - loss: 0.4847 - accuracy: 0.7656 - val_loss: 0.4764 - val_accuracy: 0.7775\n",
      "Epoch 14/25\n",
      "250/250 [==============================] - 56s 225ms/step - loss: 0.4743 - accuracy: 0.7737 - val_loss: 0.4821 - val_accuracy: 0.7670\n",
      "Epoch 15/25\n",
      "250/250 [==============================] - 56s 224ms/step - loss: 0.4618 - accuracy: 0.7785 - val_loss: 0.4719 - val_accuracy: 0.7715\n",
      "Epoch 16/25\n",
      "250/250 [==============================] - 56s 224ms/step - loss: 0.4549 - accuracy: 0.7834 - val_loss: 0.4699 - val_accuracy: 0.7745\n",
      "Epoch 17/25\n",
      "250/250 [==============================] - 56s 224ms/step - loss: 0.4634 - accuracy: 0.7811 - val_loss: 0.4737 - val_accuracy: 0.7720\n",
      "Epoch 18/25\n",
      "250/250 [==============================] - 56s 223ms/step - loss: 0.4519 - accuracy: 0.7884 - val_loss: 0.4730 - val_accuracy: 0.7710\n",
      "Epoch 19/25\n",
      "250/250 [==============================] - 56s 224ms/step - loss: 0.4649 - accuracy: 0.7728 - val_loss: 0.4646 - val_accuracy: 0.7845\n",
      "Epoch 20/25\n",
      "250/250 [==============================] - 56s 224ms/step - loss: 0.4509 - accuracy: 0.7836 - val_loss: 0.4746 - val_accuracy: 0.7765\n",
      "Epoch 21/25\n",
      "250/250 [==============================] - 56s 223ms/step - loss: 0.4300 - accuracy: 0.7990 - val_loss: 0.4585 - val_accuracy: 0.7875\n",
      "Epoch 22/25\n",
      "250/250 [==============================] - 56s 225ms/step - loss: 0.4372 - accuracy: 0.7962 - val_loss: 0.4517 - val_accuracy: 0.7845\n",
      "Epoch 23/25\n",
      "250/250 [==============================] - 56s 224ms/step - loss: 0.4399 - accuracy: 0.7886 - val_loss: 0.4716 - val_accuracy: 0.7755\n",
      "Epoch 24/25\n",
      "250/250 [==============================] - 56s 225ms/step - loss: 0.4309 - accuracy: 0.7988 - val_loss: 0.4589 - val_accuracy: 0.7825\n",
      "Epoch 25/25\n",
      "250/250 [==============================] - 56s 225ms/step - loss: 0.4310 - accuracy: 0.8018 - val_loss: 0.4682 - val_accuracy: 0.7915\n"
     ]
    },
    {
     "data": {
      "text/plain": [
       "<tensorflow.python.keras.callbacks.History at 0x7f97f73cb290>"
      ]
     },
     "execution_count": 6,
     "metadata": {
      "tags": []
     },
     "output_type": "execute_result"
    }
   ],
   "source": [
    "#Image Data Generator to generate images\n",
    "from keras.preprocessing.image import ImageDataGenerator\n",
    "\n",
    "#Image augmentation options\n",
    "train_datagen = ImageDataGenerator(\n",
    "        rescale=1./255,  #Scales all the image pixesl b/w 0 and 1\n",
    "        shear_range=0.2,\n",
    "        zoom_range=0.2,\n",
    "        horizontal_flip=True)\n",
    "\n",
    "\n",
    "test_datagen = ImageDataGenerator(rescale=1./255) #in Testing dataset, just the rescaling of images we need\n",
    "\n",
    "#Training on the images by taking them from directory\n",
    "training_set = train_datagen.flow_from_directory(\n",
    "                              #Path of training set images\n",
    "                            'drive/MyDrive/Cats_Dogs_Data/Cats_Dogs_Data/training_set',\n",
    "                            #Shape of the image we want to keep, so that all images are in exact shape\n",
    "                            target_size=(128,128),\n",
    "                            #Random batch of images coming to be trained\n",
    "                            batch_size=32,\n",
    "                            #Classes to be trained , if multiclass then 'category'\n",
    "                            class_mode='binary')\n",
    "\n",
    "#Same as above (now for testing data)\n",
    "test_set = test_datagen.flow_from_directory(\n",
    "                                'drive/MyDrive/Cats_Dogs_Data/Cats_Dogs_Data/test_set',\n",
    "                                target_size=(128,128),\n",
    "                                batch_size=32,\n",
    "                                class_mode='binary')\n",
    "\n",
    "#Fitting through the CNN model\n",
    "batch_size=32\n",
    "classifier.fit(\n",
    "        training_set,\n",
    "        #No. of images in training set  / Batch size\n",
    "        steps_per_epoch=250,              #steps_per_epoch * batch_size = number_of_rows_in_train_data\n",
    "        #No. of epoch\n",
    "        epochs=25,\n",
    "        #Validates using test_set\n",
    "        validation_data=test_set,\n",
    "        #No. of images in test set / Batch Size\n",
    "        validation_steps=63)"
   ]
  },
  {
   "cell_type": "markdown",
   "metadata": {
    "id": "J1Zac374XKdL"
   },
   "source": [
    "Model achieved an training accuracy of 80 % with validation accuracy of 79%."
   ]
  }
 ],
 "metadata": {
  "accelerator": "GPU",
  "colab": {
   "collapsed_sections": [],
   "name": "Dogs-Cat Image Classification.ipynb",
   "provenance": [],
   "toc_visible": true
  },
  "kernelspec": {
   "display_name": "Python 3",
   "language": "python",
   "name": "python3"
  },
  "language_info": {
   "codemirror_mode": {
    "name": "ipython",
    "version": 3
   },
   "file_extension": ".py",
   "mimetype": "text/x-python",
   "name": "python",
   "nbconvert_exporter": "python",
   "pygments_lexer": "ipython3",
   "version": "3.8.5"
  }
 },
 "nbformat": 4,
 "nbformat_minor": 1
}
